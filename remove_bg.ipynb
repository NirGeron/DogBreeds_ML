{
 "cells": [
  {
   "cell_type": "code",
   "execution_count": 3,
   "id": "95956ed6-e822-424a-b5c1-e4fe9c2d8f98",
   "metadata": {
    "execution": {
     "iopub.execute_input": "2025-02-24T07:15:32.054687Z",
     "iopub.status.busy": "2025-02-24T07:15:32.054283Z",
     "iopub.status.idle": "2025-02-24T09:53:58.908744Z",
     "shell.execute_reply": "2025-02-24T09:53:58.908072Z",
     "shell.execute_reply.started": "2025-02-24T07:15:32.054669Z"
    },
    "tags": []
   },
   "outputs": [
    {
     "name": "stdout",
     "output_type": "stream",
     "text": [
      "Skipping file ./dataset/collie/.ipynb_checkpoints: [Errno 21] Is a directory: './dataset/collie/.ipynb_checkpoints'\n",
      "Skipping file ./dataset/shitzu/.ipynb_checkpoints: [Errno 21] Is a directory: './dataset/shitzu/.ipynb_checkpoints'\n",
      "Skipping file ./dataset/labrador_retriever/.ipynb_checkpoints: [Errno 21] Is a directory: './dataset/labrador_retriever/.ipynb_checkpoints'\n",
      "Skipping file ./dataset/beagle/.ipynb_checkpoints: [Errno 21] Is a directory: './dataset/beagle/.ipynb_checkpoints'\n",
      "Skipping file ./dataset/boxer/.ipynb_checkpoints: [Errno 21] Is a directory: './dataset/boxer/.ipynb_checkpoints'\n",
      "Background removal completed. Processed images are saved in: ./removed_bg_dataset\n"
     ]
    }
   ],
   "source": [
    "import os\n",
    "import numpy as np\n",
    "import cv2\n",
    "from PIL import Image\n",
    "\n",
    "def remove_background_grabcut(image_pil):\n",
    "    \"\"\"\n",
    "    Removes the background from an image using OpenCV's GrabCut algorithm.\n",
    "    \"\"\"\n",
    "    image_np = np.array(image_pil)\n",
    "    \n",
    "    if image_np.shape[-1] == 4:  # Handle images with alpha channel\n",
    "        image_np = image_np[:, :, :3]\n",
    "    \n",
    "    mask = np.zeros(image_np.shape[:2], np.uint8)\n",
    "    bgd_model = np.zeros((1, 65), np.float64)\n",
    "    fgd_model = np.zeros((1, 65), np.float64)\n",
    "\n",
    "    # Define a rectangle around the main object\n",
    "    rect = (10, 10, image_np.shape[1] - 10, image_np.shape[0] - 10)\n",
    "\n",
    "    # Apply GrabCut algorithm\n",
    "    cv2.grabCut(image_np, mask, rect, bgd_model, fgd_model, 5, cv2.GC_INIT_WITH_RECT)\n",
    "\n",
    "    # Convert mask to binary format\n",
    "    mask2 = np.where((mask == 2) | (mask == 0), 0, 1).astype(\"uint8\")\n",
    "\n",
    "    # Apply mask to remove background\n",
    "    result = image_np * mask2[:, :, np.newaxis]\n",
    "\n",
    "    return Image.fromarray(result)\n",
    "\n",
    "def process_images(input_folder, output_folder, image_size=(128, 128)):\n",
    "    \"\"\"\n",
    "    Removes background from all images in the input folder and saves them in a different output folder.\n",
    "    \"\"\"\n",
    "    if not os.path.exists(output_folder):\n",
    "        os.makedirs(output_folder)  # Create main output directory if not exists\n",
    "\n",
    "    for class_name in os.listdir(input_folder):\n",
    "        class_input_dir = os.path.join(input_folder, class_name)\n",
    "        class_output_dir = os.path.join(output_folder, class_name)\n",
    "\n",
    "        if not os.path.isdir(class_input_dir):\n",
    "            continue  # Skip non-directory files\n",
    "\n",
    "        os.makedirs(class_output_dir, exist_ok=True)  # Create class subdirectory if not exists\n",
    "        \n",
    "        for image_file in os.listdir(class_input_dir):\n",
    "            img_path = os.path.join(class_input_dir, image_file)\n",
    "            \n",
    "            try:\n",
    "                with Image.open(img_path) as pil_img:\n",
    "                    pil_img = pil_img.convert('RGB')\n",
    "                    # Remove background\n",
    "                    processed_img = remove_background_grabcut(pil_img)\n",
    "                    # Resize the image\n",
    "                    # processed_img = processed_img.resize(image_size, Image.BILINEAR)\n",
    "\n",
    "                    # Save the processed image\n",
    "                    save_path = os.path.join(class_output_dir, image_file)\n",
    "                    processed_img.save(save_path)\n",
    "\n",
    "            except Exception as e:\n",
    "                print(f\"Skipping file {img_path}: {e}\")\n",
    "\n",
    "# Set paths\n",
    "input_folder = './dataset'  # Folder containing original images in class subdirectories\n",
    "output_folder = './removed_bg_dataset'  # Folder to save images after background removal\n",
    "image_size = (224, 224)\n",
    "\n",
    "# Run background removal\n",
    "process_images(input_folder, output_folder, image_size)\n",
    "\n",
    "print(\"Background removal completed. Processed images are saved in:\", output_folder)\n"
   ]
  }
 ],
 "metadata": {
  "kernelspec": {
   "display_name": "Python 3 (ipykernel)",
   "language": "python",
   "name": "python3"
  },
  "language_info": {
   "codemirror_mode": {
    "name": "ipython",
    "version": 3
   },
   "file_extension": ".py",
   "mimetype": "text/x-python",
   "name": "python",
   "nbconvert_exporter": "python",
   "pygments_lexer": "ipython3",
   "version": "3.11.7"
  }
 },
 "nbformat": 4,
 "nbformat_minor": 5
}
