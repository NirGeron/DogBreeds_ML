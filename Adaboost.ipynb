{
 "cells": [
  {
   "cell_type": "markdown",
   "id": "d042c5bf-191c-4277-afaa-b111ca792227",
   "metadata": {},
   "source": [
    "**Import Libraries**"
   ]
  },
  {
   "cell_type": "code",
   "execution_count": 1,
   "id": "454a14f0-036b-41e0-8b9a-8e090bb09fcc",
   "metadata": {
    "tags": []
   },
   "outputs": [],
   "source": [
    "import os\n",
    "import numpy as np\n",
    "import pandas as pd\n",
    "from PIL import Image\n",
    "\n",
    "from skimage.io import imread\n",
    "from skimage.transform import resize\n",
    "\n",
    "from sklearn.model_selection import train_test_split\n",
    "from sklearn.preprocessing import LabelEncoder\n",
    "from sklearn.metrics import accuracy_score, classification_report, f1_score\n",
    "\n",
    "import matplotlib.pyplot as plt\n",
    "from datetime import datetime"
   ]
  },
  {
   "cell_type": "markdown",
   "id": "64af22f4-6cab-4890-968e-dad8327421e1",
   "metadata": {},
   "source": [
    "**Load and Preprocess Data**"
   ]
  },
  {
   "cell_type": "code",
   "execution_count": 2,
   "id": "ae26c9a9-b2b9-437c-8a1f-a9eb5f8cdf59",
   "metadata": {
    "tags": []
   },
   "outputs": [
    {
     "name": "stdout",
     "output_type": "stream",
     "text": [
      "Loading dataset from cache: dataset_cache.npz\n"
     ]
    }
   ],
   "source": [
    "def load_images_from_folders(data_dir, image_size=(64, 64), limit=None, save_path=None, load_cached=False):\n",
    "    \"\"\"\n",
    "    Loads images from subdirectories where each subdirectory represents a class.\n",
    "    Saves the processed dataset to a file and loads it from cache if available.\n",
    "    \"\"\"\n",
    "    if load_cached and save_path and os.path.exists(save_path):\n",
    "        print(f\"Loading dataset from cache: {save_path}\")\n",
    "        data = np.load(save_path, allow_pickle=True)\n",
    "        return data[\"X\"], data[\"y\"]\n",
    "\n",
    "    all_images = []\n",
    "    all_labels = []\n",
    "    class_names = sorted(os.listdir(data_dir))  # Get class folder names\n",
    "    \n",
    "    for class_name in class_names:\n",
    "        class_dir = os.path.join(data_dir, class_name)\n",
    "        if not os.path.isdir(class_dir):\n",
    "            continue  # Skip files if any\n",
    "        \n",
    "        image_files = os.listdir(class_dir)\n",
    "        if limit is not None:\n",
    "            image_files = image_files[:limit]  # Apply limit per class\n",
    "        \n",
    "        for image_file in image_files:\n",
    "            img_path = os.path.join(class_dir, image_file)\n",
    "            try:\n",
    "                with Image.open(img_path) as pil_img:\n",
    "                    pil_img = pil_img.convert('RGB')\n",
    "                    pil_img = pil_img.resize(image_size, Image.BILINEAR)\n",
    "                    img_np = np.array(pil_img)\n",
    "                    all_images.append(img_np)\n",
    "                    all_labels.append(class_name)  # Use folder name as label\n",
    "            except Exception as e:\n",
    "                print(f\"Skipping file {img_path}: {e}\")\n",
    "    \n",
    "    X = np.array(all_images)\n",
    "    y = np.array(all_labels)\n",
    "\n",
    "    # Save the dataset if a save_path is provided\n",
    "    if save_path:\n",
    "        np.savez_compressed(save_path, X=X, y=y)\n",
    "        print(f\"Dataset saved to {save_path}\")\n",
    "\n",
    "    return X, y\n",
    "\n",
    "# Set paths and parameters\n",
    "data_dir = './dataset'  # The directory containing class subfolders\n",
    "IMAGE_SIZE = (64, 64)\n",
    "CACHE_PATH = \"dataset_cache.npz\"  # Path to save/load dataset\n",
    "\n",
    "# Load and save data\n",
    "X, y = load_images_from_folders(data_dir=data_dir, image_size=IMAGE_SIZE, save_path=CACHE_PATH, load_cached=True)"
   ]
  },
  {
   "cell_type": "markdown",
   "id": "155fd2f4-1832-4aad-b4c8-84a02e0e2664",
   "metadata": {},
   "source": [
    "**Encode Labels**"
   ]
  },
  {
   "cell_type": "code",
   "execution_count": 3,
   "id": "df028c00-e3b1-47f1-95ba-43ccc3e08778",
   "metadata": {
    "tags": []
   },
   "outputs": [],
   "source": [
    "label_encoder = LabelEncoder()\n",
    "y_encoded = label_encoder.fit_transform(y)\n",
    "class_names = label_encoder.classes_\n",
    "\n",
    "# Normalize pixel values to [0, 1]\n",
    "X = X / 255.0"
   ]
  },
  {
   "cell_type": "markdown",
   "id": "0ff0d9bd-4fd3-4762-81c4-9f6a607fa17d",
   "metadata": {},
   "source": [
    "**Split Data**"
   ]
  },
  {
   "cell_type": "code",
   "execution_count": 4,
   "id": "d2cc39ba-35b1-4a10-927e-e1121cadc658",
   "metadata": {
    "tags": []
   },
   "outputs": [],
   "source": [
    "# First split into train + (validation + test)\n",
    "X_train, X_temp, y_train, y_temp = train_test_split(X, y_encoded, test_size=0.4, random_state=42)\n",
    "\n",
    "# Then split (validation + test) into validation and test\n",
    "X_val, X_test, y_val, y_test = train_test_split(X_temp, y_temp, test_size=0.5, random_state=42) "
   ]
  },
  {
   "cell_type": "markdown",
   "id": "b5215082-260e-4365-bc51-6e3dde7a1b64",
   "metadata": {},
   "source": [
    "**Load The Model And Train**"
   ]
  },
  {
   "cell_type": "code",
   "execution_count": 5,
   "id": "bfafe386-e7b1-44b9-8c88-c869c100a124",
   "metadata": {
    "tags": []
   },
   "outputs": [
    {
     "data": {
      "text/html": [
       "<style>#sk-container-id-1 {color: black;}#sk-container-id-1 pre{padding: 0;}#sk-container-id-1 div.sk-toggleable {background-color: white;}#sk-container-id-1 label.sk-toggleable__label {cursor: pointer;display: block;width: 100%;margin-bottom: 0;padding: 0.3em;box-sizing: border-box;text-align: center;}#sk-container-id-1 label.sk-toggleable__label-arrow:before {content: \"▸\";float: left;margin-right: 0.25em;color: #696969;}#sk-container-id-1 label.sk-toggleable__label-arrow:hover:before {color: black;}#sk-container-id-1 div.sk-estimator:hover label.sk-toggleable__label-arrow:before {color: black;}#sk-container-id-1 div.sk-toggleable__content {max-height: 0;max-width: 0;overflow: hidden;text-align: left;background-color: #f0f8ff;}#sk-container-id-1 div.sk-toggleable__content pre {margin: 0.2em;color: black;border-radius: 0.25em;background-color: #f0f8ff;}#sk-container-id-1 input.sk-toggleable__control:checked~div.sk-toggleable__content {max-height: 200px;max-width: 100%;overflow: auto;}#sk-container-id-1 input.sk-toggleable__control:checked~label.sk-toggleable__label-arrow:before {content: \"▾\";}#sk-container-id-1 div.sk-estimator input.sk-toggleable__control:checked~label.sk-toggleable__label {background-color: #d4ebff;}#sk-container-id-1 div.sk-label input.sk-toggleable__control:checked~label.sk-toggleable__label {background-color: #d4ebff;}#sk-container-id-1 input.sk-hidden--visually {border: 0;clip: rect(1px 1px 1px 1px);clip: rect(1px, 1px, 1px, 1px);height: 1px;margin: -1px;overflow: hidden;padding: 0;position: absolute;width: 1px;}#sk-container-id-1 div.sk-estimator {font-family: monospace;background-color: #f0f8ff;border: 1px dotted black;border-radius: 0.25em;box-sizing: border-box;margin-bottom: 0.5em;}#sk-container-id-1 div.sk-estimator:hover {background-color: #d4ebff;}#sk-container-id-1 div.sk-parallel-item::after {content: \"\";width: 100%;border-bottom: 1px solid gray;flex-grow: 1;}#sk-container-id-1 div.sk-label:hover label.sk-toggleable__label {background-color: #d4ebff;}#sk-container-id-1 div.sk-serial::before {content: \"\";position: absolute;border-left: 1px solid gray;box-sizing: border-box;top: 0;bottom: 0;left: 50%;z-index: 0;}#sk-container-id-1 div.sk-serial {display: flex;flex-direction: column;align-items: center;background-color: white;padding-right: 0.2em;padding-left: 0.2em;position: relative;}#sk-container-id-1 div.sk-item {position: relative;z-index: 1;}#sk-container-id-1 div.sk-parallel {display: flex;align-items: stretch;justify-content: center;background-color: white;position: relative;}#sk-container-id-1 div.sk-item::before, #sk-container-id-1 div.sk-parallel-item::before {content: \"\";position: absolute;border-left: 1px solid gray;box-sizing: border-box;top: 0;bottom: 0;left: 50%;z-index: -1;}#sk-container-id-1 div.sk-parallel-item {display: flex;flex-direction: column;z-index: 1;position: relative;background-color: white;}#sk-container-id-1 div.sk-parallel-item:first-child::after {align-self: flex-end;width: 50%;}#sk-container-id-1 div.sk-parallel-item:last-child::after {align-self: flex-start;width: 50%;}#sk-container-id-1 div.sk-parallel-item:only-child::after {width: 0;}#sk-container-id-1 div.sk-dashed-wrapped {border: 1px dashed gray;margin: 0 0.4em 0.5em 0.4em;box-sizing: border-box;padding-bottom: 0.4em;background-color: white;}#sk-container-id-1 div.sk-label label {font-family: monospace;font-weight: bold;display: inline-block;line-height: 1.2em;}#sk-container-id-1 div.sk-label-container {text-align: center;}#sk-container-id-1 div.sk-container {/* jupyter's `normalize.less` sets `[hidden] { display: none; }` but bootstrap.min.css set `[hidden] { display: none !important; }` so we also need the `!important` here to be able to override the default hidden behavior on the sphinx rendered scikit-learn.org. See: https://github.com/scikit-learn/scikit-learn/issues/21755 */display: inline-block !important;position: relative;}#sk-container-id-1 div.sk-text-repr-fallback {display: none;}</style><div id=\"sk-container-id-1\" class=\"sk-top-container\"><div class=\"sk-text-repr-fallback\"><pre>AdaBoostClassifier(n_estimators=200)</pre><b>In a Jupyter environment, please rerun this cell to show the HTML representation or trust the notebook. <br />On GitHub, the HTML representation is unable to render, please try loading this page with nbviewer.org.</b></div><div class=\"sk-container\" hidden><div class=\"sk-item\"><div class=\"sk-estimator sk-toggleable\"><input class=\"sk-toggleable__control sk-hidden--visually\" id=\"sk-estimator-id-1\" type=\"checkbox\" checked><label for=\"sk-estimator-id-1\" class=\"sk-toggleable__label sk-toggleable__label-arrow\">AdaBoostClassifier</label><div class=\"sk-toggleable__content\"><pre>AdaBoostClassifier(n_estimators=200)</pre></div></div></div></div></div>"
      ],
      "text/plain": [
       "AdaBoostClassifier(n_estimators=200)"
      ]
     },
     "execution_count": 5,
     "metadata": {},
     "output_type": "execute_result"
    }
   ],
   "source": [
    "from sklearn.ensemble import AdaBoostClassifier\n",
    "\n",
    "if len(X_train.shape) > 2:\n",
    "    X_train = X_train.reshape(X_train.shape[0], -1)\n",
    "\n",
    "# Ensure y_train is 1D\n",
    "if len(y_train.shape) > 1:\n",
    "    y_train = y_train.ravel()    \n",
    "\n",
    "estimators = 50\n",
    "\n",
    "# Initialize AdaBoost\n",
    "model = AdaBoostClassifier(\n",
    "    n_estimators=estimators\n",
    ")\n",
    "\n",
    "# Train the model\n",
    "model.fit(X_train, y_train)"
   ]
  },
  {
   "cell_type": "markdown",
   "id": "dd4687f3-42c9-41d3-bd49-e9b9adee659d",
   "metadata": {},
   "source": [
    "**Evaluate the Model**"
   ]
  },
  {
   "cell_type": "code",
   "execution_count": 6,
   "id": "c5b4ec71-0a92-4c7f-bd4f-248ff88b5953",
   "metadata": {
    "tags": []
   },
   "outputs": [
    {
     "name": "stdout",
     "output_type": "stream",
     "text": [
      "Training Accuracy: 0.277\n",
      "Test Accuracy: 0.247\n",
      "F1 Score: 0.227\n",
      "Classification Report:\n",
      "                    precision    recall  f1-score   support\n",
      "\n",
      "            beagle       0.20      0.15      0.17       613\n",
      "             boxer       0.25      0.19      0.21       587\n",
      "         chihuahua       0.22      0.15      0.18       636\n",
      "            collie       0.28      0.21      0.24       621\n",
      "          doberman       0.33      0.64      0.44       604\n",
      "  golden_retriever       0.20      0.43      0.28       573\n",
      "labrador_retriever       0.16      0.08      0.10       568\n",
      "        pomeranian       0.27      0.25      0.26       596\n",
      "            poodle       0.15      0.08      0.10       644\n",
      "            shitzu       0.27      0.32      0.29       558\n",
      "\n",
      "          accuracy                           0.25      6000\n",
      "         macro avg       0.23      0.25      0.23      6000\n",
      "      weighted avg       0.23      0.25      0.23      6000\n",
      "\n"
     ]
    }
   ],
   "source": [
    "if len(X_test.shape) > 2:\n",
    "    X_test = X_test.reshape(X_test.shape[0], -1)\n",
    "\n",
    "# Make Predictions (on train and test sets)\n",
    "y_pred_test = model.predict(X_test)     # Predictions on test set\n",
    "y_pred_train = model.predict(X_train)  # Predictions on train set\n",
    "\n",
    "# Compute evaluation metrics\n",
    "accuracy_train = accuracy_score(y_train, y_pred_train)\n",
    "accuracy_test = accuracy_score(y_test, y_pred_test)\n",
    "f1_test = f1_score(y_test, y_pred_test, average='weighted')\n",
    "report = classification_report(y_test, y_pred_test, target_names=label_encoder.classes_, zero_division=0)\n",
    "\n",
    "print(f'Training Accuracy: {accuracy_train:.3f}')\n",
    "print(f'Test Accuracy: {accuracy_test:.3f}')\n",
    "print(f'F1 Score: {f1_test:.3f}')\n",
    "print(\"Classification Report:\")\n",
    "print(report)\n",
    "\n",
    "# Log current evaluation details\n",
    "current_time = datetime.now().strftime(\"%Y-%m-%d %H:%M:%S\")\n",
    "details = (\n",
    "    f\"Training Accuracy: {accuracy_train:.3f}\\n\"\n",
    "    f\"Test Accuracy: {accuracy_test:.3f}\\n\"\n",
    "    f\"F1 Score: {f1_test:.3f}\\n\"\n",
    "    f\"Image Size: {IMAGE_SIZE}\\n\"\n",
    "    f\"Num of Estimators: {estimators}\\n\"\n",
    ")\n",
    "\n",
    "output_file = \"Adaboost_results.txt\"\n",
    "\n",
    "# Save the results to the output file\n",
    "with open(output_file, 'a') as f:\n",
    "    f.write(f\"Report generated at: {current_time}\\n\")\n",
    "    f.write(details + \"\\n\")\n",
    "    f.write(report + \"\\n\\n\")"
   ]
  },
  {
   "cell_type": "code",
   "execution_count": null,
   "id": "f5aecc3c-ccc0-439c-8901-a4a0ff09d42c",
   "metadata": {},
   "outputs": [],
   "source": []
  }
 ],
 "metadata": {
  "kernelspec": {
   "display_name": "Python 3 (ipykernel)",
   "language": "python",
   "name": "python3"
  },
  "language_info": {
   "codemirror_mode": {
    "name": "ipython",
    "version": 3
   },
   "file_extension": ".py",
   "mimetype": "text/x-python",
   "name": "python",
   "nbconvert_exporter": "python",
   "pygments_lexer": "ipython3",
   "version": "3.11.7"
  }
 },
 "nbformat": 4,
 "nbformat_minor": 5
}
