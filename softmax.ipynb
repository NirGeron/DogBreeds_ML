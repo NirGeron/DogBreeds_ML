{
 "cells": [
  {
   "cell_type": "code",
   "execution_count": null,
   "id": "4a702fa0-1ad7-48ea-97b8-ce718e916a60",
   "metadata": {
    "execution": {
     "iopub.execute_input": "2025-02-25T08:06:24.541413Z",
     "iopub.status.busy": "2025-02-25T08:06:24.541120Z"
    }
   },
   "outputs": [],
   "source": [
    "import os\n",
    "import numpy as np\n",
    "import pandas as pd\n",
    "import cv2\n",
    "import matplotlib.pyplot as plt\n",
    "from sklearn.model_selection import train_test_split\n",
    "from sklearn.preprocessing import LabelEncoder, StandardScaler\n",
    "from sklearn.decomposition import PCA\n",
    "from sklearn.linear_model import LogisticRegression\n",
    "from sklearn.metrics import accuracy_score, classification_report\n",
    "from PIL import Image\n",
    "from datetime import datetime\n",
    "\n",
    "output_file = 'Softmax_results.txt'\n",
    "dataset_path = './removed_bg_dataset'\n",
    "image_size = (128, 128)\n",
    "\n",
    "# Lists to store data\n",
    "data = []\n",
    "labels = []\n",
    "\n",
    "# Load images from dataset\n",
    "for breed in os.listdir(dataset_path):\n",
    "    breed_path = os.path.join(dataset_path, breed)\n",
    "    if os.path.isdir(breed_path):\n",
    "        for img_name in os.listdir(breed_path):\n",
    "            img_path = os.path.join(breed_path, img_name)\n",
    "            try:\n",
    "                # Ensure the file is a valid image\n",
    "                with Image.open(img_path) as img:\n",
    "                    img.verify()  # Check integrity\n",
    "                \n",
    "                # Read and preprocess the image\n",
    "                image = cv2.imread(img_path)\n",
    "                image = cv2.resize(image, image_size)  # Resize the image\n",
    "                image = cv2.cvtColor(image, cv2.COLOR_BGR2GRAY)  # Convert to grayscale (reduces dimensions)\n",
    "                data.append(image.flatten())  # Flatten the image into a vector\n",
    "                labels.append(breed)\n",
    "            except Exception as e:\n",
    "                print(f\"Skipping invalid image: {img_path}\")\n",
    "\n",
    "# Convert lists to NumPy arrays\n",
    "data = np.array(data, dtype=\"float32\") / 255.0  # Normalize pixel values\n",
    "labels = np.array(labels)\n",
    "\n",
    "# Encode class labels as integers\n",
    "label_encoder = LabelEncoder()\n",
    "labels = label_encoder.fit_transform(labels)\n",
    "\n",
    "# Split dataset into training and testing sets\n",
    "X_train, X_test, y_train, y_test = train_test_split(data, labels, test_size=0.2, random_state=42, stratify=labels)\n",
    "X_train_final = X_train  # No transformation\n",
    "X_test_final = X_test\n",
    "\n",
    "# Train Softmax classifier\n",
    "softmax_model = LogisticRegression(multi_class='multinomial', solver='lbfgs', max_iter=1000)\n",
    "softmax_model.fit(X_train_final, y_train)\n",
    "\n",
    "# Predictions\n",
    "y_pred = softmax_model.predict(X_test_final)\n",
    "accuracy = accuracy_score(y_test, y_pred)\n",
    "\n",
    "current_time = datetime.now().strftime(\"%Y-%m-%d %H:%M:%S\")\n",
    "details = f\"Test Accuracy: {accuracy:.4f} image_size: {image_size} dataset: {dataset_path}\"\n",
    "output = classification_report(y_test, y_pred, target_names=label_encoder.classes_)\n",
    "results = f\"{current_time} \\n {details} \\n {output}\\n\"\n",
    "print(results)\n",
    "\n",
    "with open(output_file, 'a') as f:\n",
    "    f.write(f\"Report generated at: {results}\")\n"
   ]
  }
 ],
 "metadata": {
  "kernelspec": {
   "display_name": "Python 3 (ipykernel)",
   "language": "python",
   "name": "python3"
  },
  "language_info": {
   "codemirror_mode": {
    "name": "ipython",
    "version": 3
   },
   "file_extension": ".py",
   "mimetype": "text/x-python",
   "name": "python",
   "nbconvert_exporter": "python",
   "pygments_lexer": "ipython3",
   "version": "3.11.7"
  }
 },
 "nbformat": 4,
 "nbformat_minor": 5
}
