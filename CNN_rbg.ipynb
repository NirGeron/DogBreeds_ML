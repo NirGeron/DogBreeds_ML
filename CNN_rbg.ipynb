{
 "cells": [
  {
   "cell_type": "markdown",
   "id": "af996325-7e52-4fe9-9583-6f772511091e",
   "metadata": {},
   "source": [
    "**Import Libraries**"
   ]
  },
  {
   "cell_type": "code",
   "execution_count": 2,
   "id": "b1f39f02-5192-439e-8cb5-3679e1830756",
   "metadata": {
    "execution": {
     "iopub.execute_input": "2025-02-23T12:31:06.574237Z",
     "iopub.status.busy": "2025-02-23T12:31:06.573344Z",
     "iopub.status.idle": "2025-02-23T12:31:11.020097Z",
     "shell.execute_reply": "2025-02-23T12:31:11.019499Z",
     "shell.execute_reply.started": "2025-02-23T12:31:06.574237Z"
    }
   },
   "outputs": [],
   "source": [
    "import os\n",
    "import copy\n",
    "import numpy as np\n",
    "import pandas as pd\n",
    "from PIL import Image\n",
    "import cv2\n",
    "\n",
    "from sklearn.model_selection import train_test_split\n",
    "from sklearn.metrics import accuracy_score, classification_report, f1_score\n",
    "from sklearn.utils.class_weight import compute_class_weight\n",
    "from sklearn.preprocessing import LabelEncoder\n",
    "\n",
    "import torch\n",
    "import torch.nn as nn\n",
    "import torch.optim as optim\n",
    "from torch.utils.data import Dataset, DataLoader\n",
    "\n",
    "from datetime import datetime"
   ]
  },
  {
   "cell_type": "markdown",
   "id": "bdb18721-7022-4b72-82f3-31ce99e70a1d",
   "metadata": {},
   "source": [
    "**Load and Preprocess Data**"
   ]
  },
  {
   "cell_type": "code",
   "execution_count": 3,
   "id": "5b925650-29b9-4fb5-9a86-faf3be70c13d",
   "metadata": {
    "execution": {
     "iopub.execute_input": "2025-02-23T12:31:11.022048Z",
     "iopub.status.busy": "2025-02-23T12:31:11.021652Z",
     "iopub.status.idle": "2025-02-23T12:31:18.661163Z",
     "shell.execute_reply": "2025-02-23T12:31:18.660827Z",
     "shell.execute_reply.started": "2025-02-23T12:31:11.022048Z"
    },
    "tags": []
   },
   "outputs": [
    {
     "name": "stdout",
     "output_type": "stream",
     "text": [
      "Loading dataset from cache: dataset_cache.npz\n"
     ]
    }
   ],
   "source": [
    "def remove_background_grabcut(image_pil):\n",
    "    \"\"\"\n",
    "    Removes the background from an image using OpenCV's GrabCut algorithm.\n",
    "    \"\"\"\n",
    "    image_np = np.array(image_pil)\n",
    "    \n",
    "    if image_np.shape[-1] == 4:  # Handle images with alpha channel\n",
    "        image_np = image_np[:, :, :3]\n",
    "    \n",
    "    mask = np.zeros(image_np.shape[:2], np.uint8)\n",
    "    bgd_model = np.zeros((1, 65), np.float64)\n",
    "    fgd_model = np.zeros((1, 65), np.float64)\n",
    "\n",
    "    # Define a rectangle around the main object\n",
    "    rect = (10, 10, image_np.shape[1] - 10, image_np.shape[0] - 10)\n",
    "\n",
    "    # Apply GrabCut algorithm\n",
    "    cv2.grabCut(image_np, mask, rect, bgd_model, fgd_model, 5, cv2.GC_INIT_WITH_RECT)\n",
    "\n",
    "    # Convert mask to binary format\n",
    "    mask2 = np.where((mask == 2) | (mask == 0), 0, 1).astype(\"uint8\")\n",
    "\n",
    "    # Apply mask to remove background\n",
    "    result = image_np * mask2[:, :, np.newaxis]\n",
    "\n",
    "    return Image.fromarray(result)\n",
    "\n",
    "def load_images_from_folders(data_dir, image_size=(64, 64), limit=None, save_path=None, load_cached=False, remove_bg=False):\n",
    "    \"\"\"\n",
    "    Loads images from subdirectories where each subdirectory represents a class.\n",
    "    Optionally removes background from images.\n",
    "    \"\"\"\n",
    "    if load_cached and save_path and os.path.exists(save_path):\n",
    "        print(f\"Loading dataset from cache: {save_path}\")\n",
    "        data = np.load(save_path, allow_pickle=True)\n",
    "        return data[\"X\"], data[\"y\"]\n",
    "\n",
    "    all_images = []\n",
    "    all_labels = []\n",
    "    class_names = sorted(os.listdir(data_dir))  # Get class folder names\n",
    "    save_dir = \"./processed_dataset\"\n",
    "    for class_name in class_names:\n",
    "        class_dir = os.path.join(data_dir, class_name)\n",
    "        if not os.path.isdir(class_dir):\n",
    "            continue  # Skip files if any\n",
    "        \n",
    "        image_files = os.listdir(class_dir)\n",
    "        if limit is not None:\n",
    "            image_files = image_files[:limit]  # Apply limit per class\n",
    "        \n",
    "        for image_file in image_files:\n",
    "            img_path = os.path.join(class_dir, image_file)\n",
    "            try:\n",
    "                print(\"in try\")\n",
    "                with Image.open(img_path) as pil_img:\n",
    "                    pil_img = pil_img.convert('RGB')\n",
    "                    \n",
    "                    if remove_bg:\n",
    "                        pil_img = remove_background_grabcut(pil_img)\n",
    "                        class_save_dir = os.path.join(save_dir, class_name)\n",
    "                        os.makedirs(class_save_dir, exist_ok=True)  # Ensure class folder exists\n",
    "                        save_path = os.path.join(class_save_dir, image_file)\n",
    "                        pil_img.save(save_path)  # Save modified image\n",
    "                        print(f\"save {save_path}\")\n",
    "                        \n",
    "                    pil_img = pil_img.resize(image_size, Image.BILINEAR)  # Resize after removing background\n",
    "                    img_np = np.array(pil_img)\n",
    "                    all_images.append(img_np)\n",
    "                    all_labels.append(class_name)  # Use folder name as label\n",
    "            except Exception as e:\n",
    "                print(f\"Skipping file {img_path}: {e}\")\n",
    "    \n",
    "    X = np.array(all_images)\n",
    "    y = np.array(all_labels)\n",
    "\n",
    "    # Save the dataset if a save_path is provided\n",
    "    if save_path:\n",
    "        np.savez_compressed(save_path, X=X, y=y)\n",
    "        print(f\"Dataset saved to {save_path}\")\n",
    "\n",
    "    return X, y\n",
    "\n",
    "# Set paths and parameters\n",
    "data_dir = './dataset'  # The directory containing class subfolders\n",
    "IMAGE_SIZE = (128, 128)\n",
    "CACHE_PATH = \"dataset_cache.npz\"  # Path to save/load dataset\n",
    "\n",
    "# Load and save data\n",
    "X, y = load_images_from_folders(data_dir, image_size=IMAGE_SIZE, save_path=CACHE_PATH, load_cached=True, remove_bg=True)"
   ]
  },
  {
   "cell_type": "markdown",
   "id": "090b92d5-0e6d-4fd7-9344-38fa55d91a73",
   "metadata": {},
   "source": [
    "**Encode Labels**"
   ]
  },
  {
   "cell_type": "code",
   "execution_count": 4,
   "id": "df02b97d-a605-466a-8121-1e9592305e83",
   "metadata": {
    "execution": {
     "iopub.execute_input": "2025-02-23T12:31:18.663186Z",
     "iopub.status.busy": "2025-02-23T12:31:18.662372Z",
     "iopub.status.idle": "2025-02-23T12:31:18.673976Z",
     "shell.execute_reply": "2025-02-23T12:31:18.673798Z",
     "shell.execute_reply.started": "2025-02-23T12:31:18.663186Z"
    },
    "tags": []
   },
   "outputs": [],
   "source": [
    "label_encoder = LabelEncoder()\n",
    "y_encoded = label_encoder.fit_transform(y)\n",
    "class_names = label_encoder.classes_"
   ]
  },
  {
   "cell_type": "markdown",
   "id": "9da491fa-7fe3-4721-a4ac-1c1f56907ff0",
   "metadata": {},
   "source": [
    "**Split Data**"
   ]
  },
  {
   "cell_type": "code",
   "execution_count": 5,
   "id": "7bfe6151-8ebf-46f0-b557-6f47f1800907",
   "metadata": {
    "execution": {
     "iopub.execute_input": "2025-02-23T12:31:18.676140Z",
     "iopub.status.busy": "2025-02-23T12:31:18.675627Z",
     "iopub.status.idle": "2025-02-23T12:31:19.595360Z",
     "shell.execute_reply": "2025-02-23T12:31:19.595102Z",
     "shell.execute_reply.started": "2025-02-23T12:31:18.676140Z"
    },
    "tags": []
   },
   "outputs": [],
   "source": [
    "# First split into train + (validation + test)\n",
    "X_train, X_temp, y_train, y_temp = train_test_split(X, y_encoded, test_size=0.4, random_state=42)\n",
    "\n",
    "# Then split (validation + test) into validation and test\n",
    "X_val, X_test, y_val, y_test = train_test_split(X_temp, y_temp, test_size=0.5, random_state=42) "
   ]
  },
  {
   "cell_type": "markdown",
   "id": "c479e390-b7b3-4356-a7ac-614d29ce049b",
   "metadata": {},
   "source": [
    "**Normilize**"
   ]
  },
  {
   "cell_type": "code",
   "execution_count": 6,
   "id": "ece8e032-8efa-46f3-b0f5-531ae2c87038",
   "metadata": {
    "execution": {
     "iopub.execute_input": "2025-02-23T12:31:19.597039Z",
     "iopub.status.busy": "2025-02-23T12:31:19.596607Z",
     "iopub.status.idle": "2025-02-23T12:32:16.290562Z",
     "shell.execute_reply": "2025-02-23T12:32:16.288999Z",
     "shell.execute_reply.started": "2025-02-23T12:31:19.597039Z"
    }
   },
   "outputs": [],
   "source": [
    "# Calculate mean and standard deviation from the training group\n",
    "train_mean = X_train.mean(axis=(0, 1, 2))\n",
    "train_std = X_train.std(axis=(0, 1, 2))\n",
    "\n",
    "# Normalize the training data\n",
    "X_train_normalized = (X_train - train_mean) / train_std\n",
    "\n",
    "# Apply the same normalization to the validation and test datasets\n",
    "X_val_normalized = (X_val - train_mean) / train_std\n",
    "X_test_normalized = (X_test - train_mean) / train_std"
   ]
  },
  {
   "cell_type": "markdown",
   "id": "616e765f-3ea6-42b0-adad-f1dac17be547",
   "metadata": {},
   "source": [
    "**Prepare Data for PyTorch**"
   ]
  },
  {
   "cell_type": "code",
   "execution_count": 7,
   "id": "177c63c5-f2fe-4064-b159-1d2776aaff17",
   "metadata": {
    "execution": {
     "iopub.execute_input": "2025-02-23T12:32:16.296882Z",
     "iopub.status.busy": "2025-02-23T12:32:16.295880Z",
     "iopub.status.idle": "2025-02-23T12:32:17.652942Z",
     "shell.execute_reply": "2025-02-23T12:32:17.652170Z",
     "shell.execute_reply.started": "2025-02-23T12:32:16.296882Z"
    }
   },
   "outputs": [],
   "source": [
    "# Transpose axes for PyTorch\n",
    "X_train = np.transpose(X_train_normalized, (0, 3, 1, 2))\n",
    "X_val = np.transpose(X_val_normalized, (0, 3, 1, 2))\n",
    "X_test = np.transpose(X_test_normalized, (0, 3, 1, 2))\n",
    "\n",
    "# Convert to tensors\n",
    "X_train_tensor = torch.tensor(X_train, dtype=torch.float32)\n",
    "y_train_tensor = torch.tensor(y_train, dtype=torch.long)\n",
    "\n",
    "X_val_tensor = torch.tensor(X_val, dtype=torch.float32)\n",
    "y_val_tensor = torch.tensor(y_val, dtype=torch.long)\n",
    "\n",
    "X_test_tensor = torch.tensor(X_test, dtype=torch.float32)\n",
    "y_test_tensor = torch.tensor(y_test, dtype=torch.long)\n",
    "\n",
    "class ImageDataset(Dataset):\n",
    "    \n",
    "    def __init__(self, X, y):\n",
    "        self.X = X\n",
    "        self.y = y\n",
    "\n",
    "    def __len__(self):\n",
    "        return len(self.X)\n",
    "\n",
    "    def __getitem__(self, idx):\n",
    "        return self.X[idx], self.y[idx]\n",
    "\n",
    "train_dataset = ImageDataset(X_train_tensor, y_train_tensor)\n",
    "val_dataset = ImageDataset(X_val_tensor, y_val_tensor)\n",
    "test_dataset = ImageDataset(X_test_tensor, y_test_tensor)\n",
    "\n",
    "batch_size = 64\n",
    "train_loader = DataLoader(train_dataset, batch_size=batch_size, shuffle=True)\n",
    "val_loader = DataLoader(val_dataset, batch_size=batch_size, shuffle=False)\n",
    "test_loader = DataLoader(test_dataset, batch_size=batch_size, shuffle=False)"
   ]
  },
  {
   "cell_type": "markdown",
   "id": "be0a1a60-8716-4a51-a072-3f4dd5c6026b",
   "metadata": {},
   "source": [
    "**Define the Model**"
   ]
  },
  {
   "cell_type": "code",
   "execution_count": 8,
   "id": "584c9bf4-ab47-454b-802a-2a705e1b974e",
   "metadata": {
    "execution": {
     "iopub.execute_input": "2025-02-23T12:32:17.654737Z",
     "iopub.status.busy": "2025-02-23T12:32:17.653927Z",
     "iopub.status.idle": "2025-02-23T12:32:17.755080Z",
     "shell.execute_reply": "2025-02-23T12:32:17.754499Z",
     "shell.execute_reply.started": "2025-02-23T12:32:17.654737Z"
    }
   },
   "outputs": [],
   "source": [
    "class DogBreedCNN(nn.Module):\n",
    "    \n",
    "    def __init__(self, num_classes):\n",
    "        \n",
    "        super(DogBreedCNN, self).__init__()\n",
    "\n",
    "        # Convolutional Block 1\n",
    "        self.conv1 = nn.Conv2d(3, 32, kernel_size=3, padding=1)\n",
    "        self.bn1 = nn.BatchNorm2d(32)\n",
    "        self.relu = nn.ReLU()\n",
    "        self.pool = nn.MaxPool2d(kernel_size=2, stride=2)\n",
    "        self.dropout_conv1 = nn.Dropout(p=0.2)\n",
    "\n",
    "        # Convolutional Block 2\n",
    "        self.conv2 = nn.Conv2d(32, 64, kernel_size=3, padding=1)\n",
    "        self.bn2 = nn.BatchNorm2d(64)\n",
    "        self.dropout_conv2 = nn.Dropout(p=0.2)\n",
    "\n",
    "        # Convolutional Block 3\n",
    "        self.conv3 = nn.Conv2d(64, 128, kernel_size=3, padding=1)\n",
    "        self.bn3 = nn.BatchNorm2d(128)\n",
    "        self.dropout_conv3 = nn.Dropout(p=0.2)\n",
    "\n",
    "        # Fully Connected Layers\n",
    "        # self.fc1 = nn.Linear(128 * 8 * 8, 256) # (64, 64)\n",
    "        self.fc1 = nn.Linear(128 * 16 * 16, 256) # (128, 128)\n",
    "        # self.fc1 = nn.Linear(128 * 28 * 28, 256) # (224, 224)\n",
    "        self.fc2 = nn.Linear(256, num_classes)\n",
    "\n",
    "    def forward(self, x):\n",
    "        x = self.pool(self.relu(self.bn1(self.conv1(x))))\n",
    "        x = self.dropout_conv1(x)\n",
    "        x = self.pool(self.relu(self.bn2(self.conv2(x))))\n",
    "        x = self.dropout_conv2(x)\n",
    "        x = self.pool(self.relu(self.bn3(self.conv3(x))))\n",
    "        x = self.dropout_conv3(x)\n",
    "        x = x.view(x.size(0), -1)\n",
    "        x = self.relu(self.fc1(x))\n",
    "        x = self.fc2(x)\n",
    "        return x\n",
    "    \n",
    "\n",
    "num_classes = len(np.unique(y)) # Number of output classes\n",
    "model = DogBreedCNN(num_classes)"
   ]
  },
  {
   "cell_type": "markdown",
   "id": "c05c1712-dd45-4215-8e13-7b1e0b5425d9",
   "metadata": {},
   "source": [
    "**Train The Model**"
   ]
  },
  {
   "cell_type": "code",
   "execution_count": null,
   "id": "ba65f384-3ab7-4e96-ac63-f6623554c4ac",
   "metadata": {
    "execution": {
     "iopub.execute_input": "2025-02-23T12:32:17.757180Z",
     "iopub.status.busy": "2025-02-23T12:32:17.756631Z"
    }
   },
   "outputs": [
    {
     "name": "stdout",
     "output_type": "stream",
     "text": [
      "Epoch 1/100, Train Loss: 6.8361, Train Acc: 16.41%\n",
      "Epoch 2/100, Train Loss: 3.9650, Train Acc: 20.11%\n",
      "Epoch 3/100, Train Loss: 3.5940, Train Acc: 23.80%\n",
      "Epoch 4/100, Train Loss: 3.3420, Train Acc: 26.15%\n",
      "Epoch 5/100, Train Loss: 3.0692, Train Acc: 27.86%\n",
      "Epoch 6/100, Train Loss: 2.9209, Train Acc: 29.15%\n",
      "Epoch 7/100, Train Loss: 2.8265, Train Acc: 30.55%\n",
      "Epoch 8/100, Train Loss: 2.7647, Train Acc: 31.91%\n",
      "Epoch 9/100, Train Loss: 2.7291, Train Acc: 33.80%\n",
      "Epoch 10/100, Train Loss: 2.7042, Train Acc: 34.43%\n",
      "Epoch 11/100, Train Loss: 2.7092, Train Acc: 35.49%\n",
      "Epoch 12/100, Train Loss: 2.6944, Train Acc: 36.25%\n",
      "Epoch 00013: reducing learning rate of group 0 to 3.7500e-04.\n",
      "Epoch 13/100, Train Loss: 2.6753, Train Acc: 38.18%\n",
      "Epoch 14/100, Train Loss: 2.4820, Train Acc: 40.07%\n"
     ]
    }
   ],
   "source": [
    "def train(model, train_loader, val_loader, num_epochs=50, learning_rate=0.01, patience=8, alpha=0.001):\n",
    "    device = torch.device(\"cuda\" if torch.cuda.is_available() else \"cpu\")\n",
    "    model.to(device)\n",
    "\n",
    "    criterion = nn.CrossEntropyLoss()\n",
    "    optimizer = optim.Adam(model.parameters(), lr=learning_rate)\n",
    "    scheduler = optim.lr_scheduler.ReduceLROnPlateau(\n",
    "        optimizer, mode='min', factor=0.75, patience=3, verbose=True\n",
    "    )\n",
    "\n",
    "    train_losses, val_losses = [], []\n",
    "    train_accs, val_accs = [], []\n",
    "\n",
    "    best_val_loss = float('inf')\n",
    "    best_model_state = None\n",
    "    no_improve_count = 0\n",
    "\n",
    "    for epoch in range(num_epochs):\n",
    "        model.train()\n",
    "        running_loss, correct, total = 0.0, 0, 0\n",
    "\n",
    "        for inputs, labels in train_loader:\n",
    "            inputs, labels = inputs.to(device), labels.to(device)\n",
    "\n",
    "            optimizer.zero_grad()\n",
    "            outputs = model(inputs)\n",
    "            loss_ce = criterion(outputs, labels)\n",
    "\n",
    "            # L1 regularization\n",
    "            l1_penalty = torch.tensor(0., requires_grad=True).to(device)\n",
    "            for name, param in model.named_parameters():\n",
    "                if \"weight\" in name and \"bn\" not in name:  # Exclude biases and BatchNorm parameters\n",
    "                    l1_penalty += torch.norm(param, p=1)\n",
    "\n",
    "            # Total loss\n",
    "            total_loss = loss_ce + alpha * l1_penalty\n",
    "\n",
    "            total_loss.backward()\n",
    "            \n",
    "            optimizer.step()\n",
    "            \n",
    "            running_loss += total_loss.item()\n",
    "            _, predicted = outputs.max(1)\n",
    "            total += labels.size(0)\n",
    "            correct += predicted.eq(labels).sum().item()\n",
    "\n",
    "        train_losses.append(running_loss / len(train_loader))\n",
    "        train_accs.append(100. * correct / total)\n",
    "\n",
    "        model.eval()\n",
    "        val_loss, correct, total = 0.0, 0, 0\n",
    "\n",
    "        with torch.no_grad():\n",
    "            for inputs, labels in val_loader:\n",
    "                inputs, labels = inputs.to(device), labels.to(device)\n",
    "                outputs = model(inputs)\n",
    "                loss_ce = criterion(outputs, labels)\n",
    "\n",
    "                # L1 regularization in validation\n",
    "                l1_penalty = torch.tensor(0., requires_grad=False).to(device)\n",
    "                for name, param in model.named_parameters():\n",
    "                    if \"weight\" in name and \"bn\" not in name:  # Exclude biases and BatchNorm parameters\n",
    "                        l1_penalty += torch.norm(param, p=1)\n",
    "\n",
    "                total_loss = loss_ce + alpha * l1_penalty\n",
    "                val_loss += total_loss.item()\n",
    "\n",
    "                _, predicted = outputs.max(1)\n",
    "                total += labels.size(0)\n",
    "                correct += predicted.eq(labels).sum().item()\n",
    "\n",
    "        val_losses.append(val_loss / len(val_loader))\n",
    "        val_accs.append(100. * correct / total)\n",
    "        \n",
    "        # Learning rate scheduling\n",
    "        scheduler.step(val_loss)\n",
    "\n",
    "        print(f\"Epoch {epoch+1}/{num_epochs}, Train Loss: {train_losses[-1]:.4f}, Train Acc: {train_accs[-1]:.2f}%\")\n",
    "\n",
    "        # Early stopping mechanism\n",
    "        if val_losses[-1] < best_val_loss:\n",
    "            best_val_loss = val_losses[-1]\n",
    "            best_model_state = copy.deepcopy(model.state_dict())\n",
    "            no_improve_count = 0\n",
    "        else:\n",
    "            no_improve_count += 1\n",
    "\n",
    "        if no_improve_count >= patience:\n",
    "            print(f\"Early stopping triggered after {epoch+1} epochs\")\n",
    "            break\n",
    "\n",
    "    # Restore the best model\n",
    "    if best_model_state is not None:\n",
    "        model.load_state_dict(best_model_state)\n",
    "\n",
    "    return train_losses, val_losses, train_accs, val_accs\n",
    "\n",
    "num_of_epochs = 100\n",
    "lr = 0.0005\n",
    "train_losses, val_losses, train_accs, val_accs = train(model, train_loader, val_loader, num_epochs=num_of_epochs, learning_rate=lr)"
   ]
  },
  {
   "cell_type": "markdown",
   "id": "c0f44a8d-d7eb-40b3-8f50-fb276ee4a969",
   "metadata": {},
   "source": [
    "**Evaluate The Model**"
   ]
  },
  {
   "cell_type": "code",
   "execution_count": null,
   "id": "3ed0fbba-a7df-440d-ab38-b92482005072",
   "metadata": {
    "tags": []
   },
   "outputs": [],
   "source": [
    "def evaluate(model, loader):\n",
    "    \n",
    "    device = torch.device(\"cuda\" if torch.cuda.is_available() else \"cpu\")\n",
    "    model.eval()\n",
    "\n",
    "    all_preds, all_labels = [], []\n",
    "    with torch.no_grad():\n",
    "        for inputs, labels in loader:\n",
    "            inputs, labels = inputs.to(device), labels.to(device)\n",
    "            outputs = model(inputs)\n",
    "            _, predicted = outputs.max(1)\n",
    "            all_preds.extend(predicted.cpu().numpy())\n",
    "            all_labels.extend(labels.cpu().numpy())\n",
    "\n",
    "    return np.array(all_labels), np.array(all_preds)\n",
    "\n",
    "# Evaluate on train set\n",
    "y_train_true, y_train_pred = evaluate(model, train_loader)\n",
    "\n",
    "# Evaluate on test set\n",
    "y_test_true, y_test_pred = evaluate(model, test_loader)\n",
    "\n",
    "# Compute evaluation metrics\n",
    "accuracy_train = accuracy_score(y_train_true, y_train_pred)\n",
    "accuracy_test = accuracy_score(y_test_true, y_test_pred)\n",
    "f1_test = f1_score(y_test, y_test_pred, average='weighted')\n",
    "report = classification_report(y_test, y_test_pred, target_names=label_encoder.classes_, zero_division=0)\n",
    "\n",
    "print(f'Training Accuracy: {accuracy_train:.3f}')\n",
    "print(f'Test Accuracy: {accuracy_test:.3f}')\n",
    "print(f'F1 Score: {f1_test:.3f}')\n",
    "print(\"Classification Report:\")\n",
    "print(report)\n",
    "\n",
    "# Log current evaluation details\n",
    "current_time = datetime.now().strftime(\"%Y-%m-%d %H:%M:%S\")\n",
    "details = (\n",
    "    f\"Training Accuracy: {accuracy_train:.3f}\\n\"\n",
    "    f\"Test Accuracy: {accuracy_test:.3f}\\n\"\n",
    "    f\"F1 Score: {f1_test:.3f}\\n\"\n",
    "    f\"Image Size: {IMAGE_SIZE}\\n\"\n",
    "    f\"Num of Epochs: {num_of_epochs}\\n\"\n",
    "    f\"Learning Rate: {lr}\\n\"\n",
    ")\n",
    "\n",
    "output_file = \"CNN_results_rbg.txt\"\n",
    "\n",
    "# Save the results to the output file\n",
    "with open(output_file, 'a') as f:\n",
    "    f.write(f\"Report generated at: {current_time}\\n\")\n",
    "    f.write(details + \"\\n\")\n",
    "    f.write(report + \"\\n\\n\")"
   ]
  },
  {
   "cell_type": "code",
   "execution_count": null,
   "id": "f459c306-1ed4-4ec7-8162-6757081387cc",
   "metadata": {},
   "outputs": [],
   "source": []
  }
 ],
 "metadata": {
  "kernelspec": {
   "display_name": "Python 3 (ipykernel)",
   "language": "python",
   "name": "python3"
  },
  "language_info": {
   "codemirror_mode": {
    "name": "ipython",
    "version": 3
   },
   "file_extension": ".py",
   "mimetype": "text/x-python",
   "name": "python",
   "nbconvert_exporter": "python",
   "pygments_lexer": "ipython3",
   "version": "3.11.7"
  }
 },
 "nbformat": 4,
 "nbformat_minor": 5
}
