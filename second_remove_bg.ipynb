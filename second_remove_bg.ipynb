{
 "cells": [
  {
   "cell_type": "code",
   "execution_count": 1,
   "id": "39b11ece-e465-4d99-a414-bd9126ef5887",
   "metadata": {
    "execution": {
     "iopub.execute_input": "2025-02-24T07:13:44.593006Z",
     "iopub.status.busy": "2025-02-24T07:13:44.592622Z",
     "iopub.status.idle": "2025-02-24T07:13:44.994969Z",
     "shell.execute_reply": "2025-02-24T07:13:44.994440Z",
     "shell.execute_reply.started": "2025-02-24T07:13:44.592989Z"
    }
   },
   "outputs": [
    {
     "ename": "ModuleNotFoundError",
     "evalue": "No module named 'rembg'",
     "output_type": "error",
     "traceback": [
      "\u001b[0;31m---------------------------------------------------------------------------\u001b[0m",
      "\u001b[0;31mModuleNotFoundError\u001b[0m                       Traceback (most recent call last)",
      "Cell \u001b[0;32mIn[1], line 5\u001b[0m\n\u001b[1;32m      3\u001b[0m \u001b[38;5;28;01mimport\u001b[39;00m \u001b[38;5;21;01mcv2\u001b[39;00m\n\u001b[1;32m      4\u001b[0m \u001b[38;5;28;01mfrom\u001b[39;00m \u001b[38;5;21;01mPIL\u001b[39;00m \u001b[38;5;28;01mimport\u001b[39;00m Image\n\u001b[0;32m----> 5\u001b[0m \u001b[38;5;28;01mfrom\u001b[39;00m \u001b[38;5;21;01mrembg\u001b[39;00m \u001b[38;5;28;01mimport\u001b[39;00m remove  \u001b[38;5;66;03m# Deep learning-based background removal\u001b[39;00m\n\u001b[1;32m      7\u001b[0m \u001b[38;5;28;01mdef\u001b[39;00m \u001b[38;5;21mremove_background_u2net\u001b[39m(image_pil):\n\u001b[1;32m      8\u001b[0m \u001b[38;5;250m    \u001b[39m\u001b[38;5;124;03m\"\"\"\u001b[39;00m\n\u001b[1;32m      9\u001b[0m \u001b[38;5;124;03m    Removes the background from an image using the U2Net model (rembg).\u001b[39;00m\n\u001b[1;32m     10\u001b[0m \u001b[38;5;124;03m    \"\"\"\u001b[39;00m\n",
      "\u001b[0;31mModuleNotFoundError\u001b[0m: No module named 'rembg'"
     ]
    }
   ],
   "source": [
    "import os\n",
    "import numpy as np\n",
    "import cv2\n",
    "from PIL import Image\n",
    "from rembg import remove  # Deep learning-based background removal\n",
    "\n",
    "def remove_background_u2net(image_pil):\n",
    "    \"\"\"\n",
    "    Removes the background from an image using the U2Net model (rembg).\n",
    "    \"\"\"\n",
    "    image_bytes = image_pil.tobytes()\n",
    "    output = remove(image_bytes)  # Remove background\n",
    "    return Image.open(output)\n",
    "\n",
    "def process_images(input_folder, output_folder, image_size=(128, 128)):\n",
    "    \"\"\"\n",
    "    Removes background from all images in the input folder and saves them in a different output folder.\n",
    "    \"\"\"\n",
    "    if not os.path.exists(output_folder):\n",
    "        os.makedirs(output_folder)\n",
    "\n",
    "    for class_name in os.listdir(input_folder):\n",
    "        class_input_dir = os.path.join(input_folder, class_name)\n",
    "        class_output_dir = os.path.join(output_folder, class_name)\n",
    "\n",
    "        if not os.path.isdir(class_input_dir):\n",
    "            continue  # Skip non-directory files\n",
    "\n",
    "        os.makedirs(class_output_dir, exist_ok=True)\n",
    "\n",
    "        for image_file in os.listdir(class_input_dir):\n",
    "            img_path = os.path.join(class_input_dir, image_file)\n",
    "            \n",
    "            try:\n",
    "                with Image.open(img_path) as pil_img:\n",
    "                    pil_img = pil_img.convert('RGBA')  # Ensure it has an alpha channel\n",
    "\n",
    "                    # Remove background using U2Net\n",
    "                    processed_img = remove_background_u2net(pil_img)\n",
    "\n",
    "                    # Resize the image\n",
    "                    processed_img = processed_img.resize(image_size, Image.BILINEAR)\n",
    "\n",
    "                    # Save the processed image\n",
    "                    save_path = os.path.join(class_output_dir, image_file)\n",
    "                    processed_img.save(save_path, format=\"PNG\")  # Save as PNG to keep transparency\n",
    "\n",
    "            except Exception as e:\n",
    "                print(f\"Skipping file {img_path}: {e}\")\n",
    "\n",
    "# Set paths\n",
    "input_folder = './dataset'  # Folder containing original images in class subdirectories\n",
    "output_folder = './processed_dataset_second'  # Folder to save images after background removal\n",
    "image_size = (128, 128)\n",
    "\n",
    "# Run background removal\n",
    "process_images(input_folder, output_folder, image_size)\n",
    "\n",
    "print(\"Background removal completed. Processed images are saved in:\", output_folder)\n"
   ]
  }
 ],
 "metadata": {
  "kernelspec": {
   "display_name": "Python 3 (ipykernel)",
   "language": "python",
   "name": "python3"
  },
  "language_info": {
   "codemirror_mode": {
    "name": "ipython",
    "version": 3
   },
   "file_extension": ".py",
   "mimetype": "text/x-python",
   "name": "python",
   "nbconvert_exporter": "python",
   "pygments_lexer": "ipython3",
   "version": "3.11.7"
  }
 },
 "nbformat": 4,
 "nbformat_minor": 5
}
